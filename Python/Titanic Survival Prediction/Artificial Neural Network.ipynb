{
 "cells": [
  {
   "cell_type": "markdown",
   "id": "4f7edc1d",
   "metadata": {},
   "source": [
    "## Aldrin Padua\n",
    "## AAI695-A"
   ]
  },
  {
   "cell_type": "markdown",
   "id": "d3212e00",
   "metadata": {},
   "source": [
    "### "
   ]
  },
  {
   "cell_type": "markdown",
   "id": "de916c99",
   "metadata": {},
   "source": [
    "### <font color=\"red\"> Required: Titanic.csv (This file has already been cleaned up and modfied, and it needs to be in the same folder as this notebook file) </font>"
   ]
  },
  {
   "cell_type": "markdown",
   "id": "e7d5e7b3",
   "metadata": {},
   "source": [
    "### NEURAL NETWORK"
   ]
  },
  {
   "cell_type": "markdown",
   "id": "57610350",
   "metadata": {},
   "source": [
    "### Step 1: use our “titanic” dataset and split data – 80% as training and 20% test sets;"
   ]
  },
  {
   "cell_type": "code",
   "execution_count": 3,
   "id": "75768ebb",
   "metadata": {},
   "outputs": [],
   "source": [
    "import numpy as np\n",
    "import pandas as pd\n",
    "from sklearn.model_selection import train_test_split\n",
    "from sklearn.model_selection import GridSearchCV\n",
    "from sklearn.metrics import accuracy_score,confusion_matrix,ConfusionMatrixDisplay\n",
    "import matplotlib.pyplot as plt\n",
    "from sklearn.preprocessing import StandardScaler\n",
    "\n",
    "data = 'Titanic.csv'\n",
    "df = pd.read_csv(data)"
   ]
  },
  {
   "cell_type": "code",
   "execution_count": 4,
   "id": "8d2af433",
   "metadata": {
    "scrolled": true
   },
   "outputs": [
    {
     "name": "stdout",
     "output_type": "stream",
     "text": [
      "x_train and y_train shapes are (1047, 4) and (1047, 1), respectively.\n",
      "x_test and y_test shapes are (262, 4) and (262, 1), respectively.\n"
     ]
    }
   ],
   "source": [
    "# pclass column data was converted to integers: 1st -> 1, 2nd -> 2, 3rd -> 3\n",
    "# sex column data was converted to integers: male -> 1, female -> 2\n",
    "# NA values in the age column were all replaced by average value of all other age values\n",
    "X = df[[\"pclass\",\"sex\", \"age\", \"sibsp\"]]\n",
    "y = df[[\"survived\"]]\n",
    "x_train,x_test,y_train,y_test = train_test_split(X,y,test_size=0.20)\n",
    "\n",
    "# scale data to minimize effect in MLP\n",
    "scaler = StandardScaler()\n",
    "scaler.fit(x_train)\n",
    "x_train = scaler.transform(x_train) \n",
    "x_test = scaler.transform(x_test)\n",
    "\n",
    "print(f\"x_train and y_train shapes are {x_train.shape} and {y_train.shape}, respectively.\")\n",
    "print(f\"x_test and y_test shapes are {x_test.shape} and {y_test.shape}, respectively.\")"
   ]
  },
  {
   "cell_type": "markdown",
   "id": "e512a956",
   "metadata": {},
   "source": [
    "## "
   ]
  },
  {
   "cell_type": "markdown",
   "id": "8eb57c31",
   "metadata": {},
   "source": [
    "### Step 2: Fit a neural network using independent variables ‘pclass + sex + age + sibsp’ and dependent variable ‘survived’. Use 2 hidden layers and set the activation functions for both the hidden and output layer to be the sigmoid function. Set “solver” parameter as either SGD (stochastic gradient descend) or Adam (similar to SGD but optimized performance with mini batches). Adjust hyperparameters, accordingly."
   ]
  },
  {
   "cell_type": "markdown",
   "id": "3fe01f94",
   "metadata": {},
   "source": [
    "#### <font color=\"red\">NEURAL NETWORK STRUCTURE 1: 2 Hidden Layers with 100 Neurons and 50 Neurons, respectively</font>"
   ]
  },
  {
   "cell_type": "code",
   "execution_count": 5,
   "id": "5e03897e",
   "metadata": {
    "scrolled": true
   },
   "outputs": [
    {
     "name": "stdout",
     "output_type": "stream",
     "text": [
      "Best parameter {'activation': 'logistic', 'alpha': 0.01, 'hidden_layer_sizes': (100, 50), 'max_iter': 500, 'random_state': 1, 'solver': 'adam'}\n"
     ]
    }
   ],
   "source": [
    "from sklearn.neural_network import MLPClassifier\n",
    "\n",
    "clf = MLPClassifier()\n",
    "params = {'solver':[\"adam\"], 'alpha':10**-np.arange(1, 7, dtype=float), \n",
    "          'hidden_layer_sizes':[(100, 50)], \n",
    "          'activation':[\"logistic\"], 'max_iter':[500], 'random_state':[1]}\n",
    "grid = GridSearchCV(clf, params, scoring='accuracy')\n",
    "grid.fit(x_train, y_train.values.reshape(-1))\n",
    "print(f\"Best parameter {grid.best_params_}\")"
   ]
  },
  {
   "cell_type": "code",
   "execution_count": 6,
   "id": "da6906c0",
   "metadata": {},
   "outputs": [
    {
     "name": "stdout",
     "output_type": "stream",
     "text": [
      "Output activation function: logistic\n",
      "Overall Accuracy: 0.8053435114503816\n"
     ]
    }
   ],
   "source": [
    "clf_new = MLPClassifier(**grid.best_params_)\n",
    "clf_new.fit(x_train, y_train.values.reshape(-1))\n",
    "y_pred = clf_new.predict(x_test)\n",
    "print(f\"Output activation function: {clf_new.out_activation_}\")  # output activation function\n",
    "print(\"Overall Accuracy:\", accuracy_score(y_test, y_pred))\n"
   ]
  },
  {
   "cell_type": "code",
   "execution_count": 7,
   "id": "f5721754",
   "metadata": {
    "scrolled": true
   },
   "outputs": [
    {
     "name": "stdout",
     "output_type": "stream",
     "text": [
      "Confusion Matrix (Test Dataset)\n"
     ]
    },
    {
     "data": {
      "image/png": "[encoded data removed]",
      "text/plain": [
       "<Figure size 432x288 with 2 Axes>"
      ]
     },
     "metadata": {
      "needs_background": "light"
     },
     "output_type": "display_data"
    }
   ],
   "source": [
    "ConfusionMatrixDisplay.from_estimator(clf_new, x_test, y_test)\n",
    "print('Confusion Matrix (Test Dataset)')\n",
    "tn, fp, fn, tp = confusion_matrix(y_test, y_pred).ravel()"
   ]
  },
  {
   "cell_type": "markdown",
   "id": "2450077e",
   "metadata": {},
   "source": [
    "##### "
   ]
  },
  {
   "cell_type": "markdown",
   "id": "31b42b74",
   "metadata": {},
   "source": [
    "#### <font color=\"red\">NEURAL NETWORK STRUCTURE 2: 2 Hidden Layers with 75 Neurons and 50 Neurons, respectively</font>"
   ]
  },
  {
   "cell_type": "code",
   "execution_count": 8,
   "id": "8ae33a86",
   "metadata": {},
   "outputs": [
    {
     "name": "stdout",
     "output_type": "stream",
     "text": [
      "Best parameter {'activation': 'logistic', 'alpha': 0.1, 'hidden_layer_sizes': (75, 50), 'max_iter': 500, 'random_state': 1, 'solver': 'adam'}\n"
     ]
    }
   ],
   "source": [
    "clf2 = MLPClassifier()\n",
    "params = {'solver':[\"adam\"], 'alpha':10**-np.arange(1, 7, dtype=float), \n",
    "          'hidden_layer_sizes':[(75, 50)], \n",
    "          'activation':[\"logistic\"], 'max_iter':[500], 'random_state':[1]}\n",
    "grid2 = GridSearchCV(clf2, params, scoring='accuracy')\n",
    "grid2.fit(x_train, y_train.values.reshape(-1))\n",
    "print(f\"Best parameter {grid2.best_params_}\")"
   ]
  },
  {
   "cell_type": "code",
   "execution_count": 9,
   "id": "fff65aaa",
   "metadata": {},
   "outputs": [
    {
     "name": "stdout",
     "output_type": "stream",
     "text": [
      "Output activation function: logistic\n",
      "Overall Accuracy: 0.8091603053435115\n"
     ]
    }
   ],
   "source": [
    "clf_new2 = MLPClassifier(**grid2.best_params_)\n",
    "clf_new2.fit(x_train, y_train.values.reshape(-1))\n",
    "y_pred2 = clf_new2.predict(x_test)\n",
    "print(f\"Output activation function: {clf_new2.out_activation_}\")  # output activation function\n",
    "print(\"Overall Accuracy:\", accuracy_score(y_test, y_pred2))\n"
   ]
  },
  {
   "cell_type": "code",
   "execution_count": 10,
   "id": "e0a72d25",
   "metadata": {},
   "outputs": [
    {
     "name": "stdout",
     "output_type": "stream",
     "text": [
      "Confusion Matrix 2 (Test Dataset)\n"
     ]
    },
    {
     "data": {
      "image/png": "[encoded data removed]",
      "text/plain": [
       "<Figure size 432x288 with 2 Axes>"
      ]
     },
     "metadata": {
      "needs_background": "light"
     },
     "output_type": "display_data"
    }
   ],
   "source": [
    "ConfusionMatrixDisplay.from_estimator(clf_new2, x_test, y_test)\n",
    "print('Confusion Matrix 2 (Test Dataset)')\n",
    "tn2, fp2, fn2, tp2 = confusion_matrix(y_test, y_pred2).ravel()"
   ]
  },
  {
   "cell_type": "markdown",
   "id": "38095bf7",
   "metadata": {},
   "source": [
    "## "
   ]
  },
  {
   "cell_type": "markdown",
   "id": "c158fecf",
   "metadata": {},
   "source": [
    "### Step 3: Check the performance of the model with out-of- sample accuracy"
   ]
  },
  {
   "cell_type": "code",
   "execution_count": 14,
   "id": "bf57e010",
   "metadata": {},
   "outputs": [
    {
     "name": "stdout",
     "output_type": "stream",
     "text": [
      "\n",
      "For Neural Network Structure 1: \n",
      "\n",
      "\tPercentage of survivors correctly predicted: 61.54%\n",
      "\tPercentage of fatalities correctly predicted: 93.04%\n"
     ]
    }
   ],
   "source": [
    "surv_acc = round((tp/(tp+fn))*100, 2)\n",
    "fatal_acc = round((tn/(tn+fp))*100, 2)\n",
    "print(f\"\\nFor Neural Network Structure 1: \")\n",
    "print(f\"\\n\\tPercentage of survivors correctly predicted: {surv_acc}%\")\n",
    "print(f\"\\tPercentage of fatalities correctly predicted: {fatal_acc}%\")"
   ]
  },
  {
   "cell_type": "code",
   "execution_count": 15,
   "id": "4a44726b",
   "metadata": {
    "scrolled": true
   },
   "outputs": [
    {
     "name": "stdout",
     "output_type": "stream",
     "text": [
      "\n",
      "For Neural Network Structure 2: \n",
      "\n",
      "\tPercentage of survivors correctly predicted: 62.5%\n",
      "\tPercentage of fatalities correctly predicted: 93.04%\n"
     ]
    }
   ],
   "source": [
    "surv_acc2 = round((tp2/(tp2+fn2))*100, 2)\n",
    "fatal_acc2 = round((tn2/(tn2+fp2))*100, 2)\n",
    "print(f\"\\nFor Neural Network Structure 2: \")\n",
    "print(f\"\\n\\tPercentage of survivors correctly predicted: {surv_acc2}%\")\n",
    "print(f\"\\tPercentage of fatalities correctly predicted: {fatal_acc2}%\")"
   ]
  },
  {
   "cell_type": "markdown",
   "id": "2a48420b",
   "metadata": {},
   "source": [
    "## "
   ]
  },
  {
   "cell_type": "markdown",
   "id": "7366c108",
   "metadata": {},
   "source": [
    "### Step 4: Compare the out-of-sample accuracy (as defined in step 3) with the random forest obtained in homework #3. (You can either use a table or plot the results of the two algorithms in one figure). Explain any difference in accuracy."
   ]
  },
  {
   "cell_type": "code",
   "execution_count": 13,
   "id": "5d4563c7",
   "metadata": {
    "scrolled": true
   },
   "outputs": [
    {
     "data": {
      "text/html": [
       "<style type=\"text/css\">\n",
       "#T_c1662_row0_col0, #T_c1662_row0_col1, #T_c1662_row0_col2, #T_c1662_row0_col3, #T_c1662_row1_col0, #T_c1662_row1_col1, #T_c1662_row1_col2, #T_c1662_row1_col3, #T_c1662_row2_col0, #T_c1662_row2_col1, #T_c1662_row2_col2, #T_c1662_row2_col3 {\n",
       "  text-align: center;\n",
       "}\n",
       "</style>\n",
       "<table id=\"T_c1662_\">\n",
       "  <thead>\n",
       "    <tr>\n",
       "      <th class=\"blank level0\" >&nbsp;</th>\n",
       "      <th class=\"col_heading level0 col0\" >Classifier Type</th>\n",
       "      <th class=\"col_heading level0 col1\" >Survivors Correctly Predicted</th>\n",
       "      <th class=\"col_heading level0 col2\" >Fatalitites Correctly Predicted</th>\n",
       "      <th class=\"col_heading level0 col3\" >Accuracy Score (Overall)</th>\n",
       "    </tr>\n",
       "  </thead>\n",
       "  <tbody>\n",
       "    <tr>\n",
       "      <th id=\"T_c1662_level0_row0\" class=\"row_heading level0 row0\" >0</th>\n",
       "      <td id=\"T_c1662_row0_col0\" class=\"data row0 col0\" >Random Forest</td>\n",
       "      <td id=\"T_c1662_row0_col1\" class=\"data row0 col1\" >64.76%</td>\n",
       "      <td id=\"T_c1662_row0_col2\" class=\"data row0 col2\" >87.26%</td>\n",
       "      <td id=\"T_c1662_row0_col3\" class=\"data row0 col3\" >78.24%</td>\n",
       "    </tr>\n",
       "    <tr>\n",
       "      <th id=\"T_c1662_level0_row1\" class=\"row_heading level0 row1\" >1</th>\n",
       "      <td id=\"T_c1662_row1_col0\" class=\"data row1 col0\" >Neural Network 1</td>\n",
       "      <td id=\"T_c1662_row1_col1\" class=\"data row1 col1\" >61.54%</td>\n",
       "      <td id=\"T_c1662_row1_col2\" class=\"data row1 col2\" >93.04%</td>\n",
       "      <td id=\"T_c1662_row1_col3\" class=\"data row1 col3\" >80.53%</td>\n",
       "    </tr>\n",
       "    <tr>\n",
       "      <th id=\"T_c1662_level0_row2\" class=\"row_heading level0 row2\" >2</th>\n",
       "      <td id=\"T_c1662_row2_col0\" class=\"data row2 col0\" >Neural Network 2</td>\n",
       "      <td id=\"T_c1662_row2_col1\" class=\"data row2 col1\" >62.5%</td>\n",
       "      <td id=\"T_c1662_row2_col2\" class=\"data row2 col2\" >93.04%</td>\n",
       "      <td id=\"T_c1662_row2_col3\" class=\"data row2 col3\" >80.92%</td>\n",
       "    </tr>\n",
       "  </tbody>\n",
       "</table>\n"
      ],
      "text/plain": [
       "<pandas.io.formats.style.Styler at 0x7f9d9823edc0>"
      ]
     },
     "metadata": {},
     "output_type": "display_data"
    }
   ],
   "source": [
    "data_compare = {\n",
    "    'Classifier Type':[\"Random Forest\", \"Neural Network 1\", \"Neural Network 2\"],\n",
    "    'Survivors Correctly Predicted':[\"64.76%\", f\"{surv_acc}%\", f\"{surv_acc2}%\"],\n",
    "    'Fatalitites Correctly Predicted':[\"87.26%\", f\"{fatal_acc}%\", f\"{fatal_acc2}%\"],\n",
    "    'Accuracy Score (Overall)':[\"78.24%\", f\"{round(accuracy_score(y_test, y_pred)*100, 2)}%\",\n",
    "                                f\"{round(accuracy_score(y_test, y_pred2)*100, 2)}%\"]\n",
    "}\n",
    "\n",
    "df2 = pd.DataFrame(data=data_compare)\n",
    "pd.set_option('expand_frame_repr', False)\n",
    "\n",
    "display(df2.style.set_properties(**{'text-align': 'center'}))"
   ]
  },
  {
   "cell_type": "markdown",
   "id": "d4159210",
   "metadata": {},
   "source": [
    "#### "
   ]
  },
  {
   "cell_type": "markdown",
   "id": "44d09fc4",
   "metadata": {},
   "source": [
    "#### Discussion:\n",
    "\n",
    "In terms of individual accuracies, while the Random Forest is the least accurate among the 3 classifiers in terms of survival prediction,  it is the most accurate for the fatality prediction. However, the variance between the accuracies of the neural networks and the random forest is not so significant as shown by the overall accuracy score (last column of the table). That said, for the given set of data, the outcome of the three classifiers are relatively on the equal range. \n",
    "\n",
    "This behavior can be attributed to the fact that there are only four attributes being used to classify the data namely, \"pclass\",\"sex\", \"age\", and \"sibsp.\" This means that with only these four attributes, a random forest's ability to comprehend the pattern is very much at its peak. Hence, its performance is relatively equal to that of a neural network because the input data is not complex enough to showcase the latter's ability to grasp more complex patterns and to outperform the former. \n",
    "\n",
    "The ability or accuracy of a neural network can then be said to be data complexity-dependent. Therefore, for the given set of data, it can be concluded that a Random Forest would suffice, and a deep learning network is an overkill given that they yield relatively similar results. "
   ]
  },
  {
   "cell_type": "code",
   "execution_count": null,
   "id": "3b43e2aa",
   "metadata": {},
   "outputs": [],
   "source": []
  }
 ],
 "metadata": {
  "kernelspec": {
   "display_name": "Python 3 (ipykernel)",
   "language": "python",
   "name": "python3"
  },
  "language_info": {
   "codemirror_mode": {
    "name": "ipython",
    "version": 3
   },
   "file_extension": ".py",
   "mimetype": "text/x-python",
   "name": "python",
   "nbconvert_exporter": "python",
   "pygments_lexer": "ipython3",
   "version": "3.9.7"
  }
 },
 "nbformat": 4,
 "nbformat_minor": 5
}
