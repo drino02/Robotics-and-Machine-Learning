{
 "cells": [
  {
   "cell_type": "markdown",
   "id": "bbde1d58",
   "metadata": {},
   "source": [
    "### Aldrin D. Padua <br>_AAI 695-A_<br>"
   ]
  },
  {
   "cell_type": "markdown",
   "id": "496f0156",
   "metadata": {},
   "source": [
    "#### Least Squares Regression (8th degree polynomial):"
   ]
  },
  {
   "cell_type": "code",
   "execution_count": 4,
   "id": "5a4fd2c6",
   "metadata": {
    "scrolled": true
   },
   "outputs": [],
   "source": [
    "import matplotlib.pyplot as plt \n",
    "import numpy as np \n",
    "import random\n",
    "\n",
    "plt.style.use('seaborn-v0_8-whitegrid')\n",
    "noise_scale = 100 \n",
    "number_of_samples = 50 \n",
    "x =  25*(np.random.rand(number_of_samples, 1) - 0.5) \n",
    "x_sorted = np.sort(x.flatten())\n",
    "y = 5 * x + 15 * x**2 + 2 * x**3 + noise_scale*np.random.randn(number_of_samples, 1) \n",
    "best_m = 8 # computed best m from homework 1"
   ]
  },
  {
   "cell_type": "code",
   "execution_count": 5,
   "id": "202c62ee",
   "metadata": {},
   "outputs": [
    {
     "name": "stdout",
     "output_type": "stream",
     "text": [
      "Coefficients obtained via least squares regression:\n",
      "[-2.26075143e-05  2.33829622e-04  4.27269568e-03 -3.80577492e-02\n",
      " -2.87092324e-01  3.85025300e+00  2.26312679e+01 -1.66736515e+01\n",
      " -2.70021333e+01]\n"
     ]
    }
   ],
   "source": [
    "coeffs_m8 = np.polyfit(x.flatten(), y, best_m, rcond=None, full=False, w=None, cov=False)\n",
    "\n",
    "y_computed_m8 = np.zeros(np.shape(x))\n",
    "for i in range(0,len(x)):\n",
    "    for j in range(0,len(coeffs_m8)):\n",
    "        y_computed_m8[i] += coeffs_m8[j]*(x_sorted[i]**(len(coeffs_m8)-1-j))\n",
    "\n",
    "print('Coefficients obtained via least squares regression:')\n",
    "print(coeffs_m8.flatten())"
   ]
  },
  {
   "cell_type": "markdown",
   "id": "f8eb11ba",
   "metadata": {},
   "source": [
    "### "
   ]
  },
  {
   "cell_type": "markdown",
   "id": "c8f8b806",
   "metadata": {},
   "source": [
    "### Genetic Algorithm"
   ]
  },
  {
   "cell_type": "code",
   "execution_count": 6,
   "id": "52dd5166",
   "metadata": {
    "scrolled": false
   },
   "outputs": [
    {
     "name": "stdout",
     "output_type": "stream",
     "text": [
      "[-3.86548186e-05  1.22683116e-04  5.40685056e-03 -7.28016217e-03\n",
      " -1.14212331e-14  1.92457661e+00  1.68492315e+00 -2.17829774e-04\n",
      "  5.33578080e-11]\n",
      "2124\n"
     ]
    }
   ],
   "source": [
    "p = 100  # count of hypotheses in the population\n",
    "r = 0.9  # crossover rate\n",
    "m = 0.1  # mutation rate\n",
    "badness_threshold = 80000;\n",
    "iteration_count = 0;\n",
    "\n",
    "GA_coeffs = 0;  # initialize solution container\n",
    "\n",
    "# initialize population\n",
    "Population = 1*(np.random.rand(p, best_m+1))\n",
    "\n",
    "while True:\n",
    "    # initialize badness score\n",
    "    badness = np.zeros((p,1), dtype=float)\n",
    "\n",
    "    # form a matrix with the powers of x until the highest degree m\n",
    "    X_hyp = np.zeros((len(x), best_m+1))\n",
    "    for i in range(best_m+1):\n",
    "        X_hyp[:,i] = np.power(x.flatten(),i)\n",
    "\n",
    "    # evaluate badness of each hypothesis in P\n",
    "    for i in range(p):\n",
    "        badness_temp = 0\n",
    "        for j in range(len(x)):\n",
    "            x_hyp = X_hyp[j, :]\n",
    "            y_prime = np.dot(Population[i,:], x_hyp)\n",
    "            badness_temp += (y[j] - y_prime)**2\n",
    "\n",
    "        badness[i] = badness_temp/len(x)\n",
    "        \n",
    "\n",
    "    # sort P in asceding order of badness score\n",
    "    concat = np.append(Population, badness, 1)\n",
    "    concat_sorted = concat[concat[:, -1].argsort()]\n",
    "    \n",
    "    # test for convergence\n",
    "    if concat_sorted[1, -1] <= badness_threshold:\n",
    "        GA_coeffs = np.flip(concat_sorted[1, 0:best_m+1])\n",
    "        break\n",
    "    \n",
    "    # Create next generation\n",
    "    Population_temp = concat_sorted[:, 0:best_m+1]\n",
    "    Population_new = np.zeros((p, best_m+1), dtype=float)\n",
    "    Population_new[0:round((1-r)*p), :] = Population_temp[0:round((1-r)*p), :]\n",
    "    pair_count = round(r*p/2)\n",
    "\n",
    "    rand_indices = [];\n",
    "    for i in range(pair_count):\n",
    "        rand_indices.append(random.randint(0, p-1))\n",
    "        rand_indices.append(random.randint(0, p-1))\n",
    "\n",
    "    # perform single arithmetic crossover operation\n",
    "    alpha = 0.4\n",
    "    index = 0;\n",
    "    for i in range(round((1-r)*p), p, 2):\n",
    "        rand_gene_ind = random.randint(0, best_m)\n",
    "        a = Population_temp[rand_indices[index], :][rand_gene_ind]\n",
    "        b = Population_temp[rand_indices[index+1], :][rand_gene_ind]\n",
    "        z = a*alpha + (1-alpha)*b\n",
    "        Population_temp[rand_indices[index], :][rand_gene_ind] = z\n",
    "        Population_temp[rand_indices[index+1], :][rand_gene_ind] = z\n",
    "        Population_new[i, :] = Population_temp[rand_indices[index], :]\n",
    "        Population_new[i+1, :] = Population_temp[rand_indices[index], :]\n",
    "        index += 2\n",
    "\n",
    "    # perform mutation operation\n",
    "    mutation_count = round(m*p) \n",
    "    rand_indices_mut = [];\n",
    "    for i in range(mutation_count):\n",
    "        rand_indices_mut.append(random.randint(0, p-1))\n",
    "\n",
    "    for i in range(mutation_count):\n",
    "        rand_mutation_value = random.uniform(-2,2)\n",
    "        rand_gene_ind = random.randint(0, best_m)\n",
    "        Population_new[rand_indices_mut[i], :][rand_gene_ind] = Population_new[rand_indices_mut[i], :][rand_gene_ind]*rand_mutation_value\n",
    "\n",
    "    Population = Population_new  # update the population with the new generation\n",
    "    iteration_count +=1\n",
    "    \n",
    "print(GA_coeffs.flatten())\n",
    "print(iteration_count)"
   ]
  },
  {
   "cell_type": "code",
   "execution_count": 7,
   "id": "21ad5368",
   "metadata": {},
   "outputs": [
    {
     "data": {
      "text/plain": [
       "<matplotlib.legend.Legend at 0x7f80d89d9fa0>"
      ]
     },
     "execution_count": 7,
     "metadata": {},
     "output_type": "execute_result"
    },
    {
     "data": {
      "image/png": "[encoded data removed]",
      "text/plain": [
       "<Figure size 432x288 with 1 Axes>"
      ]
     },
     "metadata": {
      "needs_background": "light"
     },
     "output_type": "display_data"
    }
   ],
   "source": [
    "y_computed_GA = np.zeros(np.shape(x))\n",
    "for i in range(len(x)):\n",
    "    for j in range(len(GA_coeffs)):\n",
    "        y_computed_GA[i] += GA_coeffs[j]*(x_sorted[i]**(len(GA_coeffs)-1-j))\n",
    "\n",
    "plt.plot(x_sorted, y_computed_m8, 'b-', label = 'polyfit function (least squares)')\n",
    "plt.plot(x_sorted, y_computed_GA, 'g-', label = 'genetic algorithm')\n",
    "plt.plot(x,y,'ro', label = 'raw data')\n",
    "plt.xlabel('x')\n",
    "plt.ylabel('computed y')\n",
    "plt.title(f'8th Degree Polynomial Regression (Polyfit Vs. Genetic Algorithm)')\n",
    "plt.legend(frameon=True, shadow=True, borderpad=2)"
   ]
  },
  {
   "cell_type": "markdown",
   "id": "e858399e",
   "metadata": {},
   "source": [
    "#### Discussion\n",
    "\n",
    "Whereas the 8-th degree polynomial obtained in homework 1 via least squares method yielded a final MSE value of around 8,000, the genetic algorithm implemented in this homework had to be terminated at 70,000. However, it is NOT to say that the genetic algorithm cannot reach the same accuracy as that with least squares. It is just that it requires more time and a whole lot more iterations. The time difference between the convergence of the two methods is enormous; the least squares regression converged in a fraction of a minute whereas the genetic algorithm took more than 1 minute given the convergence criterion that is not even close to that of the least squares method.\n",
    "\n",
    "The genetic algorithm presented above uses a single arithmetic crossover operation. Perhaps, if this can be replaced by a much more advanced operation such as multi-arithmetic crossover, the convergence maybe improved.\n",
    "Also, if the genetic algorithm is allowed to continue for much longer, it will eventually reach an accuracy equal or even greater than that of the least square's result. However, it will be almost impossible to predict how much time it needs since the genetic algorithm is highly probabilistic in nature."
   ]
  },
  {
   "cell_type": "code",
   "execution_count": null,
   "id": "04fefea9",
   "metadata": {},
   "outputs": [],
   "source": []
  }
 ],
 "metadata": {
  "kernelspec": {
   "display_name": "Python 3 (ipykernel)",
   "language": "python",
   "name": "python3"
  },
  "language_info": {
   "codemirror_mode": {
    "name": "ipython",
    "version": 3
   },
   "file_extension": ".py",
   "mimetype": "text/x-python",
   "name": "python",
   "nbconvert_exporter": "python",
   "pygments_lexer": "ipython3",
   "version": "3.9.7"
  }
 },
 "nbformat": 4,
 "nbformat_minor": 5
}
